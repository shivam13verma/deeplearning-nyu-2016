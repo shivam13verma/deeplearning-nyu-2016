{
 "cells": [
  {
   "cell_type": "code",
   "execution_count": 1,
   "metadata": {
    "collapsed": true
   },
   "outputs": [],
   "source": [
    "require 'torch'   -- torch\n",
    "require 'image'   -- for color transforms\n",
    "require 'nn'      -- provides a normalization operator"
   ]
  },
  {
   "cell_type": "code",
   "execution_count": 3,
   "metadata": {
    "collapsed": true
   },
   "outputs": [],
   "source": [
    "tar = 'http://torch7.s3-website-us-east-1.amazonaws.com/data/mnist.t7.tgz'\n",
    "\n",
    "data_path = 'mnist.t7'\n",
    "train_file = paths.concat(data_path, 'train_32x32.t7')\n",
    "test_file = paths.concat(data_path, 'test_32x32.t7')\n",
    "\n",
    "if not paths.filep(train_file) or not paths.filep(test_file) then\n",
    "   os.execute('wget ' .. tar)\n",
    "   os.execute('tar xvf ' .. paths.basename(tar))\n",
    "end"
   ]
  },
  {
   "cell_type": "code",
   "execution_count": 4,
   "metadata": {
    "collapsed": true
   },
   "outputs": [],
   "source": [
    "loaded = torch.load(train_file, 'ascii')\n",
    "trainData = {\n",
    "   data = loaded.data,\n",
    "   labels = loaded.labels,\n",
    "   size = function() return trsize end\n",
    "}\n",
    "\n",
    "loaded = torch.load(test_file, 'ascii')\n",
    "testData = {\n",
    "   data = loaded.data,\n",
    "   labels = loaded.labels,\n",
    "   size = function() return tesize end\n",
    "}"
   ]
  },
  {
   "cell_type": "code",
   "execution_count": 5,
   "metadata": {
    "collapsed": true
   },
   "outputs": [],
   "source": [
    "trainData.data = trainData.data:float()\n",
    "testData.data = testData.data:float()"
   ]
  },
  {
   "cell_type": "code",
   "execution_count": 6,
   "metadata": {
    "collapsed": false
   },
   "outputs": [
    {
     "data": {
      "text/plain": [
       "==> preprocessing data: normalize globally\t\n"
      ]
     },
     "execution_count": 6,
     "metadata": {},
     "output_type": "execute_result"
    },
    {
     "data": {
      "text/plain": [
       "==> verify statistics\t\n"
      ]
     },
     "execution_count": 6,
     "metadata": {},
     "output_type": "execute_result"
    },
    {
     "data": {
      "text/plain": [
       "training data mean: 6.0247995861573e-09\t\n",
       "training data standard deviation: 0.99999995390695\t\n",
       "test data mean: 0.0051579943078792\t\n",
       "test data standard deviation: 1.0079633546724\t\n",
       "==> visualizing data\t\n"
      ]
     },
     "execution_count": 6,
     "metadata": {},
     "output_type": "execute_result"
    },
    {
     "ename": "[string \"print '==> preprocessing data: normalize glob...\"]:34: attempt to index global 'opt' (a nil value)\nstack traceback:\n\t[string \"print '==> preprocessing data: normalize glob...\"]:34: in main chunk\n\t[C]: in function 'xpcall'\n\t.../shivamverma/torch/install/share/lua/5.1/itorch/main.lua:179: in function <.../shivamverma/torch/install/share/lua/5.1/itorch/main.lua:143>\n\t.../shivamverma/torch/install/share/lua/5.1/lzmq/poller.lua:75: in function 'poll'\n\t...ivamverma/torch/install/share/lua/5.1/lzmq/impl/loop.lua:307: in function 'poll'\n\t...ivamverma/torch/install/share/lua/5.1/lzmq/impl/loop.lua:325: in function 'sleep_ex'\n\t...ivamverma/torch/install/share/lua/5.1/lzmq/impl/loop.lua:370: in function 'start'\n\t.../shivamverma/torch/install/share/lua/5.1/itorch/main.lua:350: in main chunk\n\t[C]: in function 'require'\n\t(command line):1: in main chunk\n\t[C]: at 0x0105e29bc0",
     "evalue": "",
     "output_type": "error",
     "traceback": [
      "[string \"print '==> preprocessing data: normalize glob...\"]:34: attempt to index global 'opt' (a nil value)\nstack traceback:\n\t[string \"print '==> preprocessing data: normalize glob...\"]:34: in main chunk\n\t[C]: in function 'xpcall'\n\t.../shivamverma/torch/install/share/lua/5.1/itorch/main.lua:179: in function <.../shivamverma/torch/install/share/lua/5.1/itorch/main.lua:143>\n\t.../shivamverma/torch/install/share/lua/5.1/lzmq/poller.lua:75: in function 'poll'\n\t...ivamverma/torch/install/share/lua/5.1/lzmq/impl/loop.lua:307: in function 'poll'\n\t...ivamverma/torch/install/share/lua/5.1/lzmq/impl/loop.lua:325: in function 'sleep_ex'\n\t...ivamverma/torch/install/share/lua/5.1/lzmq/impl/loop.lua:370: in function 'start'\n\t.../shivamverma/torch/install/share/lua/5.1/itorch/main.lua:350: in main chunk\n\t[C]: in function 'require'\n\t(command line):1: in main chunk\n\t[C]: at 0x0105e29bc0"
     ]
    }
   ],
   "source": [
    "print '==> preprocessing data: normalize globally'\n",
    "mean = trainData.data[{ {},1,{},{} }]:mean()\n",
    "std = trainData.data[{ {},1,{},{} }]:std()\n",
    "trainData.data[{ {},1,{},{} }]:add(-mean)\n",
    "trainData.data[{ {},1,{},{} }]:div(std)\n",
    "\n",
    "-- Normalize test data, using the training means/stds\n",
    "testData.data[{ {},1,{},{} }]:add(-mean)\n",
    "testData.data[{ {},1,{},{} }]:div(std)\n",
    "\n",
    "----------------------------------------------------------------------\n",
    "print '==> verify statistics'\n",
    "\n",
    "-- It's always good practice to verify that data is properly\n",
    "-- normalized.\n",
    "\n",
    "trainMean = trainData.data[{ {},1 }]:mean()\n",
    "trainStd = trainData.data[{ {},1 }]:std()\n",
    "\n",
    "testMean = testData.data[{ {},1 }]:mean()\n",
    "testStd = testData.data[{ {},1 }]:std()\n",
    "\n",
    "print('training data mean: ' .. trainMean)\n",
    "print('training data standard deviation: ' .. trainStd)\n",
    "\n",
    "print('test data mean: ' .. testMean)\n",
    "print('test data standard deviation: ' .. testStd)\n",
    "\n",
    "----------------------------------------------------------------------\n",
    "print '==> visualizing data'\n",
    "\n",
    "-- Visualization is quite easy, using itorch.image().\n",
    "\n",
    "if opt.visualize then\n",
    "   if itorch then\n",
    "      first256Samples = trainData.data[{ {1,256} }]\n",
    "      itorch.image(first256Samples)\n",
    "   else\n",
    "      print(\"For visualization, run this script in an itorch notebook\")\n",
    "   end\n",
    "end"
   ]
  },
  {
   "cell_type": "code",
   "execution_count": null,
   "metadata": {
    "collapsed": true
   },
   "outputs": [],
   "source": []
  }
 ],
 "metadata": {
  "kernelspec": {
   "display_name": "iTorch",
   "language": "lua",
   "name": "itorch"
  },
  "language_info": {
   "name": "lua",
   "version": "20100"
  }
 },
 "nbformat": 4,
 "nbformat_minor": 0
}
